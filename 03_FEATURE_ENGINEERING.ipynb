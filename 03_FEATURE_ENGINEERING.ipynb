{
  "nbformat": 4,
  "nbformat_minor": 0,
  "metadata": {
    "colab": {
      "name": "03_FEATURE_ENGINEERING.ipynb",
      "provenance": [],
      "authorship_tag": "ABX9TyMTRllvpTFjojeN/CGM60GA",
      "include_colab_link": true
    },
    "kernelspec": {
      "name": "python3",
      "display_name": "Python 3"
    },
    "language_info": {
      "name": "python"
    }
  },
  "cells": [
    {
      "cell_type": "markdown",
      "metadata": {
        "id": "view-in-github",
        "colab_type": "text"
      },
      "source": [
        "<a href=\"https://colab.research.google.com/github/manassanant132/02_Maching_Learing_Pipeline/blob/main/03_FEATURE_ENGINEERING.ipynb\" target=\"_parent\"><img src=\"https://colab.research.google.com/assets/colab-badge.svg\" alt=\"Open In Colab\"/></a>"
      ]
    },
    {
      "cell_type": "markdown",
      "source": [
        "Data is the new oil! หลายคนคงเคยได้ยินประโยคนี้ใช่ไหมครับแต่ันที่จริงหากเป็นเรื่องเกี่ยวกับ AI และ Machine learing แล้ว Data น่าจะเป็นเหมือนกับนำ้มันดิบ(Petroleum)มากกว่าเพราะโดยมากแล้วก่อนที่จะนพ Data มาใช้ในการวิเตราะห์รวมทั้งใช้ในการ Train Model ให้มี Accuracy ที่สูงได้เราต้องมีการกลั่นหรือสกัดเอา Feature จากข้อมูลดิบ(Raw data)รวมทั้งการทำความสะอาดข้อมู(Data Cleaning)ว่าการทำ Feature Engineering"
      ],
      "metadata": {
        "id": "8bI8gGj3wN7o"
      }
    },
    {
      "cell_type": "markdown",
      "source": [
        "ประโยชน์หลักๆของการทำ Feature Engineering คือ\n",
        "\n",
        "-เพื่อเตรียม Dataset ให้พร้อมสำหรับการทำ Data Analytics หรือเป็น Input ของ Machine Learning Algorithm\n",
        "\n",
        "-เพื่อเพิ่มเพิ่มประสิทธิภาพให้ Machine Learning Model"
      ],
      "metadata": {
        "id": "8h93uPEv1s-W"
      }
    },
    {
      "cell_type": "markdown",
      "source": [
        "มี 5 วิ\n",
        "\n",
        "\n",
        "1.   Imputation\n",
        "2.   Handing Outlier\n",
        "3.   Binning\n",
        "4.   Log Transform\n",
        "5.   One-Hot Encoding\n",
        "\n",
        "\n",
        "\n",
        "\n"
      ],
      "metadata": {
        "id": "EBZHVAIj4SvK"
      }
    },
    {
      "cell_type": "code",
      "source": [
        ""
      ],
      "metadata": {
        "id": "_FWqZOinv1w3"
      },
      "execution_count": 3,
      "outputs": []
    },
    {
      "cell_type": "code",
      "source": [
        ""
      ],
      "metadata": {
        "id": "SquGK5PSv53l"
      },
      "execution_count": 3,
      "outputs": []
    },
    {
      "cell_type": "code",
      "source": [
        ""
      ],
      "metadata": {
        "id": "6pIV_5QZwAjh"
      },
      "execution_count": 3,
      "outputs": []
    }
  ]
}