{
  "nbformat": 4,
  "nbformat_minor": 0,
  "metadata": {
    "colab": {
      "name": "Untitled2.ipynb",
      "provenance": [],
      "authorship_tag": "ABX9TyN6l9Fp5nOYXz9SMY2a3Owv",
      "include_colab_link": true
    },
    "kernelspec": {
      "name": "python3",
      "display_name": "Python 3"
    },
    "language_info": {
      "name": "python"
    },
    "accelerator": "GPU"
  },
  "cells": [
    {
      "cell_type": "markdown",
      "metadata": {
        "id": "view-in-github",
        "colab_type": "text"
      },
      "source": [
        "<a href=\"https://colab.research.google.com/github/manassanant132/02_Maching_Learing_Pipeline/blob/main/MAIN_FILE.ipynb\" target=\"_parent\"><img src=\"https://colab.research.google.com/assets/colab-badge.svg\" alt=\"Open In Colab\"/></a>"
      ]
    },
    {
      "cell_type": "markdown",
      "source": [
        "#0.MOUNT"
      ],
      "metadata": {
        "id": "Xquh7cz--13k"
      }
    },
    {
      "cell_type": "code",
      "source": [
        "from google.colab import drive\n",
        "drive.mount('/content/drive')"
      ],
      "metadata": {
        "colab": {
          "base_uri": "https://localhost:8080/"
        },
        "id": "arD3Mah2-1NW",
        "outputId": "4ede9dbc-555d-4bca-bf81-79a82fe58125"
      },
      "execution_count": 19,
      "outputs": [
        {
          "output_type": "stream",
          "name": "stdout",
          "text": [
            "Mounted at /content/drive\n"
          ]
        }
      ]
    },
    {
      "cell_type": "markdown",
      "source": [
        "# 1.DATA PREPARATION"
      ],
      "metadata": {
        "id": "IgtvV4Vt9Hp_"
      }
    },
    {
      "cell_type": "code",
      "execution_count": 10,
      "metadata": {
        "id": "QdpKlJCg40_k"
      },
      "outputs": [],
      "source": [
        "import tensorflow as tf \n",
        "import time\n",
        "import numpy as np\n",
        "import matplotlib.pyplot as plt\n",
        "\n",
        "import plotly\n",
        "import plotly.graph_objs as go\n",
        "\n",
        "from sklearn.metrics import classification_report\n",
        "from sklearn.metrics import confusion_matrix\n",
        "import pickle as p\n",
        "\n",
        "to_categorical = tf.keras.utils.to_categorical  #เอา tenflow แยกประเภท\n",
        "mnist = tf.keras.datasets.mnist  #download data set ตัวเลข(mnist)\n",
        "load_model = tf.keras.models.load_model  \n",
        "model_from_jason = tf.keras.models.model_from_json  # model -> json"
      ]
    },
    {
      "cell_type": "code",
      "source": [
        "batch_size = 128\n",
        "num_classes = 10\n",
        "epochs =5\n",
        "\n",
        "img_rows,img_cols = 28,28"
      ],
      "metadata": {
        "id": "4CHcfsPo5G_E"
      },
      "execution_count": 11,
      "outputs": []
    },
    {
      "cell_type": "code",
      "source": [
        "(x_train,y_train),(x_test,y_test) = mnist.load_data()"
      ],
      "metadata": {
        "id": "WBVQ2itS5b6h"
      },
      "execution_count": 12,
      "outputs": []
    },
    {
      "cell_type": "code",
      "source": [
        "temp_x_test = x_test\n",
        "\n",
        "x_train = x_train.reshape(x_train.shape[0], img_rows,img_cols,1)\n",
        "x_test = x_test.reshape(x_test.shape[0],img_rows,img_cols,1)\n",
        "input_shape = (img_rows,img_cols,1)\n",
        "\n",
        "x_train = x_train.astype('float32')\n",
        "x_test=x_test.astype('float32')\n",
        "x_train /=255\n",
        "x_test /=255\n",
        "print('x_train.shape:', x_train.shape)\n",
        "print('x_test.shape:', x_test.shape)\n",
        "print(x_train.min(), x_train.max())"
      ],
      "metadata": {
        "colab": {
          "base_uri": "https://localhost:8080/"
        },
        "id": "-FMk03QC5vrn",
        "outputId": "d84ecda7-a9fa-497e-c272-1e2794d3395a"
      },
      "execution_count": 13,
      "outputs": [
        {
          "output_type": "stream",
          "name": "stdout",
          "text": [
            "x_train.shape: (60000, 28, 28, 1)\n",
            "x_test.shape: (10000, 28, 28, 1)\n",
            "0.0 1.0\n"
          ]
        }
      ]
    },
    {
      "cell_type": "code",
      "source": [
        "y_train= to_categorical(y_train,num_classes)\n",
        "y_test = to_categorical(y_test,num_classes)"
      ],
      "metadata": {
        "id": "kNt0dH5853D7"
      },
      "execution_count": 14,
      "outputs": []
    },
    {
      "cell_type": "markdown",
      "source": [
        "# DEFINE MODEL"
      ],
      "metadata": {
        "id": "ingndvio9Qa3"
      }
    },
    {
      "cell_type": "code",
      "source": [
        "#Feature Extraction\n",
        "model = tf.keras.Sequential()\n",
        "model.add(tf.keras.layers.Conv2D(32,kernel_size=(3,3),activation='relu',input_shape=input_shape))\n",
        "model.add(tf.keras.layers.Conv2D(64,(3,3),activation='relu'))\n",
        "model.add(tf.keras.layers.MaxPooling2D(pool_size=(2,2)))\n",
        "model.add(tf.keras.layers.Dropout(0.25))\n",
        "\n",
        "#Image Classification\n",
        "model.add(tf.keras.layers.Flatten())\n",
        "model.add(tf.keras.layers.Dense(128,activation='relu'))\n",
        "model.add(tf.keras.layers.Dropout(0.5))\n",
        "model.add(tf.keras.layers.Dense(num_classes,activation='softmax'))"
      ],
      "metadata": {
        "id": "SgnngdpP6TZS"
      },
      "execution_count": 15,
      "outputs": []
    },
    {
      "cell_type": "code",
      "source": [
        "model.compile(optimizer='adam',loss='categorical_crossentropy',metrics=['accuracy'])\n",
        "\n",
        "model.summary()"
      ],
      "metadata": {
        "colab": {
          "base_uri": "https://localhost:8080/"
        },
        "id": "bhF7peEx6Vpp",
        "outputId": "beebf96f-7a63-4990-af1f-e456e5684950"
      },
      "execution_count": 16,
      "outputs": [
        {
          "output_type": "stream",
          "name": "stdout",
          "text": [
            "Model: \"sequential\"\n",
            "_________________________________________________________________\n",
            " Layer (type)                Output Shape              Param #   \n",
            "=================================================================\n",
            " conv2d (Conv2D)             (None, 26, 26, 32)        320       \n",
            "                                                                 \n",
            " conv2d_1 (Conv2D)           (None, 24, 24, 64)        18496     \n",
            "                                                                 \n",
            " max_pooling2d (MaxPooling2D  (None, 12, 12, 64)       0         \n",
            " )                                                               \n",
            "                                                                 \n",
            " dropout (Dropout)           (None, 12, 12, 64)        0         \n",
            "                                                                 \n",
            " flatten (Flatten)           (None, 9216)              0         \n",
            "                                                                 \n",
            " dense (Dense)               (None, 128)               1179776   \n",
            "                                                                 \n",
            " dropout_1 (Dropout)         (None, 128)               0         \n",
            "                                                                 \n",
            " dense_1 (Dense)             (None, 10)                1290      \n",
            "                                                                 \n",
            "=================================================================\n",
            "Total params: 1,199,882\n",
            "Trainable params: 1,199,882\n",
            "Non-trainable params: 0\n",
            "_________________________________________________________________\n"
          ]
        }
      ]
    },
    {
      "cell_type": "code",
      "source": [
        "start = time.time()\n",
        "\n",
        "his = model.fit(x_train,y_train, batch_size=batch_size , epochs=epochs ,verbose=1, validation_data=(x_test,y_test))\n",
        "\n",
        "done = time.time()\n",
        "print(done-start)"
      ],
      "metadata": {
        "colab": {
          "base_uri": "https://localhost:8080/"
        },
        "id": "WiF0rcY46X_X",
        "outputId": "9aa3b609-00c0-4670-fe7f-eab532e76224"
      },
      "execution_count": 17,
      "outputs": [
        {
          "output_type": "stream",
          "name": "stdout",
          "text": [
            "Epoch 1/5\n",
            "469/469 [==============================] - 129s 273ms/step - loss: 0.2452 - accuracy: 0.9268 - val_loss: 0.0502 - val_accuracy: 0.9814\n",
            "Epoch 2/5\n",
            "469/469 [==============================] - 129s 274ms/step - loss: 0.0853 - accuracy: 0.9747 - val_loss: 0.0371 - val_accuracy: 0.9873\n",
            "Epoch 3/5\n",
            "469/469 [==============================] - 129s 275ms/step - loss: 0.0625 - accuracy: 0.9815 - val_loss: 0.0305 - val_accuracy: 0.9896\n",
            "Epoch 4/5\n",
            "469/469 [==============================] - 129s 275ms/step - loss: 0.0531 - accuracy: 0.9836 - val_loss: 0.0288 - val_accuracy: 0.9912\n",
            "Epoch 5/5\n",
            "469/469 [==============================] - 128s 273ms/step - loss: 0.0443 - accuracy: 0.9868 - val_loss: 0.0262 - val_accuracy: 0.9913\n",
            "682.6116104125977\n"
          ]
        }
      ]
    },
    {
      "cell_type": "markdown",
      "source": [
        "# Save Model"
      ],
      "metadata": {
        "id": "nQKxMeW--Mh3"
      }
    },
    {
      "cell_type": "markdown",
      "source": [
        "## 1.save history"
      ],
      "metadata": {
        "id": "SL-Ad7dr_IGP"
      }
    },
    {
      "cell_type": "code",
      "source": [
        "filepath_history_model = 'history_model'\n",
        "\n",
        "with open(filepath_history_model,'wb') as file :\n",
        "  p.dump(his.history,file)"
      ],
      "metadata": {
        "id": "rpNjLvT66gpc"
      },
      "execution_count": 18,
      "outputs": []
    },
    {
      "cell_type": "code",
      "source": [
        "filepath='model.h5'\n",
        "model.save(filepath)"
      ],
      "metadata": {
        "id": "bWT14FYT-kX3"
      },
      "execution_count": 23,
      "outputs": []
    },
    {
      "cell_type": "code",
      "source": [
        "filepath_model='model.json'\n",
        "filepath_weights = 'weights_model.h5'\n",
        "\n",
        "model_json = model.to_json()\n",
        "with open(filepath_model,\"w\") as json_file :\n",
        "  json_file.write(model_json)\n",
        "  model.save_weights(filepath_weights)"
      ],
      "metadata": {
        "id": "qi0w8yok_YPl"
      },
      "execution_count": 24,
      "outputs": []
    },
    {
      "cell_type": "code",
      "source": [
        ""
      ],
      "metadata": {
        "id": "52Zq_Jm8Azxu"
      },
      "execution_count": null,
      "outputs": []
    }
  ]
}